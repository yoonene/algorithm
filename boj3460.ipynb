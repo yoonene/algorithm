{
 "cells": [
  {
   "cell_type": "markdown",
   "id": "2144ce56-5bb2-4ab0-93bd-41011f8ddbd1",
   "metadata": {},
   "source": [
    "# 3460번. 이진수"
   ]
  },
  {
   "cell_type": "markdown",
   "id": "22065732-9817-4622-a4e1-18023e8c1a0e",
   "metadata": {},
   "source": [
    "[문제] <br>\n",
    "양의 정수 n이 주어졌을 때, 이를 이진수로 나타냈을 때 1의 위치를 모두 찾는 프로그램을 작성하시오. 최하위 비트(least significant bit, lsb)의 위치는 0이다.\n",
    "<br>\n",
    "[입력] <br>\n",
    "첫째 줄에 테스트 케이스의 개수 T가 주어진다. 각 테스트 케이스는 한 줄로 이루어져 있고, n이 주어진다. (1 ≤ T ≤ 10, 1 ≤ n ≤ 106)\n",
    "<br>\n",
    "[출력] <br>\n",
    "각 테스트 케이스에 대해서, 1의 위치를 공백으로 구분해서 줄 하나에 출력한다. 위치가 낮은 것부터 출력한다."
   ]
  },
  {
   "cell_type": "code",
   "execution_count": 32,
   "id": "69bfda50-714d-4634-a0d9-cff0f425a937",
   "metadata": {},
   "outputs": [],
   "source": [
    "def solution(n):\n",
    "    lst = []\n",
    "    i = 0\n",
    "    while n > 0:\n",
    "        if n % 2 == 1:\n",
    "            lst.append(i)\n",
    "        n //= 2\n",
    "        i += 1\n",
    "    print(*lst, sep = ' ')"
   ]
  },
  {
   "cell_type": "code",
   "execution_count": 2,
   "id": "e7855183-2c5b-4f52-9cc4-dd6c318991d7",
   "metadata": {},
   "outputs": [
    {
     "name": "stdin",
     "output_type": "stream",
     "text": [
      " 1\n"
     ]
    }
   ],
   "source": [
    "T = int(input())"
   ]
  },
  {
   "cell_type": "code",
   "execution_count": 30,
   "id": "837fa289-324d-45bf-80a9-8008cc94e9dc",
   "metadata": {},
   "outputs": [
    {
     "name": "stdin",
     "output_type": "stream",
     "text": [
      " 13\n"
     ]
    },
    {
     "name": "stdout",
     "output_type": "stream",
     "text": [
      "0,2,3\n"
     ]
    }
   ],
   "source": [
    "for t in range(T):\n",
    "    n = int(input())\n",
    "    solution(n)"
   ]
  },
  {
   "cell_type": "code",
   "execution_count": 3,
   "id": "1706cba7-a0b4-4c71-88d7-4c674263bc07",
   "metadata": {},
   "outputs": [
    {
     "name": "stdout",
     "output_type": "stream",
     "text": [
      "1\n"
     ]
    }
   ],
   "source": [
    "a = 2\n",
    "a //= 2\n",
    "print(a)"
   ]
  },
  {
   "cell_type": "code",
   "execution_count": 33,
   "id": "de361bb6-ce1f-49a8-b6f2-3154bfec51f4",
   "metadata": {},
   "outputs": [
    {
     "name": "stdout",
     "output_type": "stream",
     "text": [
      "0 2 3\n"
     ]
    }
   ],
   "source": [
    "solution(13)"
   ]
  },
  {
   "cell_type": "code",
   "execution_count": 34,
   "id": "cc89e46f-61e9-4691-b297-6e16c6079324",
   "metadata": {},
   "outputs": [
    {
     "name": "stdin",
     "output_type": "stream",
     "text": [
      " 1\n",
      " 13\n"
     ]
    },
    {
     "name": "stdout",
     "output_type": "stream",
     "text": [
      "0 2 3\n"
     ]
    }
   ],
   "source": [
    "def solution(n):\n",
    "    lst = []\n",
    "    i = 0\n",
    "    while n > 0:\n",
    "        if n % 2 == 1:\n",
    "            lst.append(i)\n",
    "        n //= 2\n",
    "        i += 1\n",
    "    print(*lst, sep = ' ')\n",
    "T = int(input())\n",
    "for t in range(T):\n",
    "    n = int(input())\n",
    "    solution(n)"
   ]
  },
  {
   "cell_type": "code",
   "execution_count": null,
   "id": "8a41c82e-b9f0-4e1a-8ebe-a518f367ce45",
   "metadata": {},
   "outputs": [],
   "source": []
  }
 ],
 "metadata": {
  "kernelspec": {
   "display_name": "Python 3",
   "language": "python",
   "name": "python3"
  },
  "language_info": {
   "codemirror_mode": {
    "name": "ipython",
    "version": 3
   },
   "file_extension": ".py",
   "mimetype": "text/x-python",
   "name": "python",
   "nbconvert_exporter": "python",
   "pygments_lexer": "ipython3",
   "version": "3.9.10"
  }
 },
 "nbformat": 4,
 "nbformat_minor": 5
}
