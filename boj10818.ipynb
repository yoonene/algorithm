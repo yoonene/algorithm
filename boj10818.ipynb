{
 "cells": [
  {
   "cell_type": "markdown",
   "id": "8566f66f-b926-4734-b964-13c945cf032e",
   "metadata": {},
   "source": [
    "[문제] <br>\n",
    "N개의 정수가 주어진다. 이때, 최솟값과 최댓값을 구하는 프로그램을 작성하시오.\n",
    "<br>\n",
    "[입력] <br>\n",
    "첫째 줄에 정수의 개수 N (1 ≤ N ≤ 1,000,000)이 주어진다. 둘째 줄에는 N개의 정수를 공백으로 구분해서 주어진다. 모든 정수는 -1,000,000보다 크거나 같고, 1,000,000보다 작거나 같은 정수이다.\n",
    "<br>\n",
    "[출력] <br>\n",
    "첫째 줄에 주어진 정수 N개의 최솟값과 최댓값을 공백으로 구분해 출력한다."
   ]
  },
  {
   "cell_type": "code",
   "execution_count": 5,
   "id": "9906687d-3035-4164-87f3-bd7acea94fa5",
   "metadata": {},
   "outputs": [
    {
     "name": "stdin",
     "output_type": "stream",
     "text": [
      " 5\n",
      " 20 10 35 30 7\n"
     ]
    },
    {
     "name": "stdout",
     "output_type": "stream",
     "text": [
      "7 35\n"
     ]
    }
   ],
   "source": [
    "N = int(input())\n",
    "\n",
    "MIN = float(\"inf\")\n",
    "MAX = float(\"-inf\")\n",
    "\n",
    "num_lst = list(map(int,input().split()))\n",
    "\n",
    "for num in num_lst:\n",
    "    if num > MAX:\n",
    "        MAX = num\n",
    "    if num < MIN:\n",
    "        MIN = num\n",
    "        \n",
    "print(MIN, MAX)"
   ]
  },
  {
   "cell_type": "code",
   "execution_count": 4,
   "id": "f8a0579e-a8cf-4423-9dda-d940cb42c2fd",
   "metadata": {},
   "outputs": [
    {
     "name": "stdin",
     "output_type": "stream",
     "text": [
      " 1 2 3\n"
     ]
    },
    {
     "name": "stdout",
     "output_type": "stream",
     "text": [
      "[1, 2, 3]\n"
     ]
    }
   ],
   "source": [
    "num_lst = list(map(int,input().split()))\n",
    "print(num_lst)"
   ]
  },
  {
   "cell_type": "code",
   "execution_count": null,
   "id": "4c1203c3-48bb-4b5a-b798-2046c9d3747e",
   "metadata": {},
   "outputs": [],
   "source": []
  }
 ],
 "metadata": {
  "kernelspec": {
   "display_name": "Python 3",
   "language": "python",
   "name": "python3"
  },
  "language_info": {
   "codemirror_mode": {
    "name": "ipython",
    "version": 3
   },
   "file_extension": ".py",
   "mimetype": "text/x-python",
   "name": "python",
   "nbconvert_exporter": "python",
   "pygments_lexer": "ipython3",
   "version": "3.9.10"
  }
 },
 "nbformat": 4,
 "nbformat_minor": 5
}
